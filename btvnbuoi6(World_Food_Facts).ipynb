{
  "nbformat": 4,
  "nbformat_minor": 0,
  "metadata": {
    "colab": {
      "provenance": [],
      "gpuType": "T4",
      "authorship_tag": "ABX9TyNgCMZj4RajPKUFtkjunX8y",
      "include_colab_link": true
    },
    "kernelspec": {
      "name": "python3",
      "display_name": "Python 3"
    },
    "language_info": {
      "name": "python"
    },
    "accelerator": "GPU",
    "gpuClass": "standard"
  },
  "cells": [
    {
      "cell_type": "markdown",
      "metadata": {
        "id": "view-in-github",
        "colab_type": "text"
      },
      "source": [
        "<a href=\"https://colab.research.google.com/github/TANGTHEMANH/phan_tich_du_lieu/blob/master/btvnbuoi6(World_Food_Facts).ipynb\" target=\"_parent\"><img src=\"https://colab.research.google.com/assets/colab-badge.svg\" alt=\"Open In Colab\"/></a>"
      ]
    },
    {
      "cell_type": "code",
      "execution_count": null,
      "metadata": {
        "colab": {
          "base_uri": "https://localhost:8080/"
        },
        "id": "sAaBfngce75D",
        "outputId": "d31366fc-e7db-4fc9-9473-759ae22e89ca"
      },
      "outputs": [
        {
          "output_type": "stream",
          "name": "stdout",
          "text": [
            "Drive already mounted at /content/drive; to attempt to forcibly remount, call drive.mount(\"/content/drive\", force_remount=True).\n"
          ]
        }
      ],
      "source": [
        "from google.colab import drive\n",
        "drive.mount('/content/drive')"
      ]
    },
    {
      "cell_type": "code",
      "source": [
        "import numpy as np \n",
        "import pandas as pd "
      ],
      "metadata": {
        "id": "5aX8CAn2gZXW"
      },
      "execution_count": null,
      "outputs": []
    },
    {
      "cell_type": "code",
      "source": [
        "# Step 3. Import the dataset from this address.\n",
        "food = pd.read_csv('/content/en.openfoodfacts.org.products.tsv',delimiter='\\t')\n",
        "print(food)"
      ],
      "metadata": {
        "id": "CN1KawGWgpJe",
        "colab": {
          "base_uri": "https://localhost:8080/"
        },
        "outputId": "a2449f75-cc4c-432f-87e9-10a2c63b6482"
      },
      "execution_count": null,
      "outputs": [
        {
          "output_type": "stream",
          "name": "stdout",
          "text": [
            "             code                                                url  \\\n",
            "0            3087  http://world-en.openfoodfacts.org/product/0000...   \n",
            "1            4530  http://world-en.openfoodfacts.org/product/0000...   \n",
            "2            4559  http://world-en.openfoodfacts.org/product/0000...   \n",
            "3           16087  http://world-en.openfoodfacts.org/product/0000...   \n",
            "4           16094  http://world-en.openfoodfacts.org/product/0000...   \n",
            "...           ...                                                ...   \n",
            "1929  11110018311  http://world-en.openfoodfacts.org/product/0011...   \n",
            "1930  11110018335  http://world-en.openfoodfacts.org/product/0011...   \n",
            "1931  11110018342  http://world-en.openfoodfacts.org/product/0011...   \n",
            "1932  11110018359  http://world-en.openfoodfacts.org/product/0011...   \n",
            "1933  11110018366  http://world-en.openfoodfacts.org/product/0011...   \n",
            "\n",
            "                         creator   created_t      created_datetime  \\\n",
            "0     openfoodfacts-contributors  1474103866  2016-09-17T09:17:46Z   \n",
            "1                usda-ndb-import  1489069957  2017-03-09T14:32:37Z   \n",
            "2                usda-ndb-import  1489069957  2017-03-09T14:32:37Z   \n",
            "3                usda-ndb-import  1489055731  2017-03-09T10:35:31Z   \n",
            "4                usda-ndb-import  1489055653  2017-03-09T10:34:13Z   \n",
            "...                          ...         ...                   ...   \n",
            "1929             usda-ndb-import  1489090285  2017-03-09T20:11:25Z   \n",
            "1930             usda-ndb-import  1489090285  2017-03-09T20:11:25Z   \n",
            "1931             usda-ndb-import  1489143927  2017-03-10T11:05:27Z   \n",
            "1932             usda-ndb-import  1489143926  2017-03-10T11:05:26Z   \n",
            "1933             usda-ndb-import  1489073119  2017-03-09T15:25:19Z   \n",
            "\n",
            "      last_modified_t last_modified_datetime                    product_name  \\\n",
            "0          1474103893   2016-09-17T09:18:13Z              Farine de blé noir   \n",
            "1          1489069957   2017-03-09T14:32:37Z  Banana Chips Sweetened (Whole)   \n",
            "2          1489069957   2017-03-09T14:32:37Z                         Peanuts   \n",
            "3          1489055731   2017-03-09T10:35:31Z          Organic Salted Nut Mix   \n",
            "4          1489055653   2017-03-09T10:34:13Z                 Organic Polenta   \n",
            "...               ...                    ...                             ...   \n",
            "1929       1489090285   2017-03-09T20:11:25Z            Psst..., Fudge Swirl   \n",
            "1930       1489090286   2017-03-09T20:11:26Z            Frozen Dairy Dessert   \n",
            "1931       1489143927   2017-03-10T11:05:27Z               100% Juice, Grape   \n",
            "1932       1489143926   2017-03-10T11:05:26Z         100% Juice, White Grape   \n",
            "1933       1489073119   2017-03-09T15:25:19Z  Cranberry Apple Juice Cocktail   \n",
            "\n",
            "     generic_name quantity  ... fruits-vegetables-nuts_100g  \\\n",
            "0             NaN      1kg  ...                         NaN   \n",
            "1             NaN      NaN  ...                         NaN   \n",
            "2             NaN      NaN  ...                         NaN   \n",
            "3             NaN      NaN  ...                         NaN   \n",
            "4             NaN      NaN  ...                         NaN   \n",
            "...           ...      ...  ...                         ...   \n",
            "1929          NaN      NaN  ...                         NaN   \n",
            "1930          NaN      NaN  ...                         NaN   \n",
            "1931          NaN      NaN  ...                         NaN   \n",
            "1932          NaN      NaN  ...                         NaN   \n",
            "1933          NaN      NaN  ...                         NaN   \n",
            "\n",
            "     fruits-vegetables-nuts-estimate_100g collagen-meat-protein-ratio_100g  \\\n",
            "0                                     NaN                              NaN   \n",
            "1                                     NaN                              NaN   \n",
            "2                                     NaN                              NaN   \n",
            "3                                     NaN                              NaN   \n",
            "4                                     NaN                              NaN   \n",
            "...                                   ...                              ...   \n",
            "1929                                  NaN                              NaN   \n",
            "1930                                  NaN                              NaN   \n",
            "1931                                  NaN                              NaN   \n",
            "1932                                  NaN                              NaN   \n",
            "1933                                  NaN                              NaN   \n",
            "\n",
            "     cocoa_100g chlorophyl_100g carbon-footprint_100g nutrition-score-fr_100g  \\\n",
            "0           NaN             NaN                   NaN                     NaN   \n",
            "1           NaN             NaN                   NaN                    14.0   \n",
            "2           NaN             NaN                   NaN                     0.0   \n",
            "3           NaN             NaN                   NaN                    12.0   \n",
            "4           NaN             NaN                   NaN                     NaN   \n",
            "...         ...             ...                   ...                     ...   \n",
            "1929        NaN             NaN                   NaN                     6.0   \n",
            "1930        NaN             NaN                   NaN                     6.0   \n",
            "1931        NaN             NaN                   NaN                     3.0   \n",
            "1932        NaN             NaN                   NaN                     NaN   \n",
            "1933        NaN             NaN                   NaN                     NaN   \n",
            "\n",
            "     nutrition-score-uk_100g glycemic-index_100g water-hardness_100g  \n",
            "0                        NaN                 NaN                 NaN  \n",
            "1                       14.0                 NaN                 NaN  \n",
            "2                        0.0                 NaN                 NaN  \n",
            "3                       12.0                 NaN                 NaN  \n",
            "4                        NaN                 NaN                 NaN  \n",
            "...                      ...                 ...                 ...  \n",
            "1929                     6.0                 NaN                 NaN  \n",
            "1930                     6.0                 NaN                 NaN  \n",
            "1931                     3.0                 NaN                 NaN  \n",
            "1932                     NaN                 NaN                 NaN  \n",
            "1933                     NaN                 NaN                 NaN  \n",
            "\n",
            "[1934 rows x 163 columns]\n"
          ]
        }
      ]
    },
    {
      "cell_type": "code",
      "source": [
        "# Step 4. See the first 5 entries \n",
        "# print(food)\n",
        "print(food.head(5))"
      ],
      "metadata": {
        "colab": {
          "base_uri": "https://localhost:8080/"
        },
        "id": "BNcpVJfnho22",
        "outputId": "427c9064-2e32-463f-ca0f-45d743a18b21"
      },
      "execution_count": null,
      "outputs": [
        {
          "output_type": "stream",
          "name": "stdout",
          "text": [
            "    code                                                url  \\\n",
            "0   3087  http://world-en.openfoodfacts.org/product/0000...   \n",
            "1   4530  http://world-en.openfoodfacts.org/product/0000...   \n",
            "2   4559  http://world-en.openfoodfacts.org/product/0000...   \n",
            "3  16087  http://world-en.openfoodfacts.org/product/0000...   \n",
            "4  16094  http://world-en.openfoodfacts.org/product/0000...   \n",
            "\n",
            "                      creator   created_t      created_datetime  \\\n",
            "0  openfoodfacts-contributors  1474103866  2016-09-17T09:17:46Z   \n",
            "1             usda-ndb-import  1489069957  2017-03-09T14:32:37Z   \n",
            "2             usda-ndb-import  1489069957  2017-03-09T14:32:37Z   \n",
            "3             usda-ndb-import  1489055731  2017-03-09T10:35:31Z   \n",
            "4             usda-ndb-import  1489055653  2017-03-09T10:34:13Z   \n",
            "\n",
            "   last_modified_t last_modified_datetime                    product_name  \\\n",
            "0       1474103893   2016-09-17T09:18:13Z              Farine de blé noir   \n",
            "1       1489069957   2017-03-09T14:32:37Z  Banana Chips Sweetened (Whole)   \n",
            "2       1489069957   2017-03-09T14:32:37Z                         Peanuts   \n",
            "3       1489055731   2017-03-09T10:35:31Z          Organic Salted Nut Mix   \n",
            "4       1489055653   2017-03-09T10:34:13Z                 Organic Polenta   \n",
            "\n",
            "  generic_name quantity  ... fruits-vegetables-nuts_100g  \\\n",
            "0          NaN      1kg  ...                         NaN   \n",
            "1          NaN      NaN  ...                         NaN   \n",
            "2          NaN      NaN  ...                         NaN   \n",
            "3          NaN      NaN  ...                         NaN   \n",
            "4          NaN      NaN  ...                         NaN   \n",
            "\n",
            "  fruits-vegetables-nuts-estimate_100g collagen-meat-protein-ratio_100g  \\\n",
            "0                                  NaN                              NaN   \n",
            "1                                  NaN                              NaN   \n",
            "2                                  NaN                              NaN   \n",
            "3                                  NaN                              NaN   \n",
            "4                                  NaN                              NaN   \n",
            "\n",
            "  cocoa_100g chlorophyl_100g carbon-footprint_100g nutrition-score-fr_100g  \\\n",
            "0        NaN             NaN                   NaN                     NaN   \n",
            "1        NaN             NaN                   NaN                    14.0   \n",
            "2        NaN             NaN                   NaN                     0.0   \n",
            "3        NaN             NaN                   NaN                    12.0   \n",
            "4        NaN             NaN                   NaN                     NaN   \n",
            "\n",
            "  nutrition-score-uk_100g glycemic-index_100g water-hardness_100g  \n",
            "0                     NaN                 NaN                 NaN  \n",
            "1                    14.0                 NaN                 NaN  \n",
            "2                     0.0                 NaN                 NaN  \n",
            "3                    12.0                 NaN                 NaN  \n",
            "4                     NaN                 NaN                 NaN  \n",
            "\n",
            "[5 rows x 163 columns]\n"
          ]
        }
      ]
    },
    {
      "cell_type": "code",
      "source": [
        "# Step 5. What is the number of observations in the dataset?\n",
        "\n",
        "with open('/content/en.openfoodfacts.org.products.tsv', 'r') as food:\n",
        "\n",
        "    lines = food.readlines()\n",
        "\n",
        "num_observations = len(lines)\n",
        "\n",
        "print(\"Number of observations:\", num_observations)"
      ],
      "metadata": {
        "colab": {
          "base_uri": "https://localhost:8080/"
        },
        "id": "wcpzqtPhh6QR",
        "outputId": "4bab9d78-e8ba-469e-bfb2-8a458b9d5fc6"
      },
      "execution_count": null,
      "outputs": [
        {
          "output_type": "stream",
          "name": "stdout",
          "text": [
            "Number of observations: 1935\n"
          ]
        }
      ]
    },
    {
      "cell_type": "code",
      "source": [
        "# Step 6. What is the number of columns in the dataset?\n",
        "num_cols = food.shape[1]\n",
        "print(\"Number of columns:\", num_cols)"
      ],
      "metadata": {
        "colab": {
          "base_uri": "https://localhost:8080/"
        },
        "id": "l14DxSdPiRBO",
        "outputId": "49432c6e-cc71-4ffe-84a2-7d0a5323fcbe"
      },
      "execution_count": null,
      "outputs": [
        {
          "output_type": "stream",
          "name": "stdout",
          "text": [
            "Number of columns: 163\n"
          ]
        }
      ]
    },
    {
      "cell_type": "code",
      "source": [
        "# Step 7. Print the name of all the columns.\n",
        "# get the column names from the dataframe\n",
        "column_names = food.columns.tolist()\n",
        "\n",
        "# print the column names to the console\n",
        "print(\"Column names:\", column_names)"
      ],
      "metadata": {
        "colab": {
          "base_uri": "https://localhost:8080/"
        },
        "id": "xzKFb4rMiWz7",
        "outputId": "399a15c0-84d4-4121-abca-23fd8fcaead3"
      },
      "execution_count": null,
      "outputs": [
        {
          "output_type": "stream",
          "name": "stdout",
          "text": [
            "Column names: ['code', 'url', 'creator', 'created_t', 'created_datetime', 'last_modified_t', 'last_modified_datetime', 'product_name', 'generic_name', 'quantity', 'packaging', 'packaging_tags', 'brands', 'brands_tags', 'categories', 'categories_tags', 'categories_en', 'origins', 'origins_tags', 'manufacturing_places', 'manufacturing_places_tags', 'labels', 'labels_tags', 'labels_en', 'emb_codes', 'emb_codes_tags', 'first_packaging_code_geo', 'cities', 'cities_tags', 'purchase_places', 'stores', 'countries', 'countries_tags', 'countries_en', 'ingredients_text', 'allergens', 'allergens_en', 'traces', 'traces_tags', 'traces_en', 'serving_size', 'no_nutriments', 'additives_n', 'additives', 'additives_tags', 'additives_en', 'ingredients_from_palm_oil_n', 'ingredients_from_palm_oil', 'ingredients_from_palm_oil_tags', 'ingredients_that_may_be_from_palm_oil_n', 'ingredients_that_may_be_from_palm_oil', 'ingredients_that_may_be_from_palm_oil_tags', 'nutrition_grade_uk', 'nutrition_grade_fr', 'pnns_groups_1', 'pnns_groups_2', 'states', 'states_tags', 'states_en', 'main_category', 'main_category_en', 'image_url', 'image_small_url', 'energy_100g', 'energy-from-fat_100g', 'fat_100g', 'saturated-fat_100g', '-butyric-acid_100g', '-caproic-acid_100g', '-caprylic-acid_100g', '-capric-acid_100g', '-lauric-acid_100g', '-myristic-acid_100g', '-palmitic-acid_100g', '-stearic-acid_100g', '-arachidic-acid_100g', '-behenic-acid_100g', '-lignoceric-acid_100g', '-cerotic-acid_100g', '-montanic-acid_100g', '-melissic-acid_100g', 'monounsaturated-fat_100g', 'polyunsaturated-fat_100g', 'omega-3-fat_100g', '-alpha-linolenic-acid_100g', '-eicosapentaenoic-acid_100g', '-docosahexaenoic-acid_100g', 'omega-6-fat_100g', '-linoleic-acid_100g', '-arachidonic-acid_100g', '-gamma-linolenic-acid_100g', '-dihomo-gamma-linolenic-acid_100g', 'omega-9-fat_100g', '-oleic-acid_100g', '-elaidic-acid_100g', '-gondoic-acid_100g', '-mead-acid_100g', '-erucic-acid_100g', '-nervonic-acid_100g', 'trans-fat_100g', 'cholesterol_100g', 'carbohydrates_100g', 'sugars_100g', '-sucrose_100g', '-glucose_100g', '-fructose_100g', '-lactose_100g', '-maltose_100g', '-maltodextrins_100g', 'starch_100g', 'polyols_100g', 'fiber_100g', 'proteins_100g', 'casein_100g', 'serum-proteins_100g', 'nucleotides_100g', 'salt_100g', 'sodium_100g', 'alcohol_100g', 'vitamin-a_100g', 'beta-carotene_100g', 'vitamin-d_100g', 'vitamin-e_100g', 'vitamin-k_100g', 'vitamin-c_100g', 'vitamin-b1_100g', 'vitamin-b2_100g', 'vitamin-pp_100g', 'vitamin-b6_100g', 'vitamin-b9_100g', 'folates_100g', 'vitamin-b12_100g', 'biotin_100g', 'pantothenic-acid_100g', 'silica_100g', 'bicarbonate_100g', 'potassium_100g', 'chloride_100g', 'calcium_100g', 'phosphorus_100g', 'iron_100g', 'magnesium_100g', 'zinc_100g', 'copper_100g', 'manganese_100g', 'fluoride_100g', 'selenium_100g', 'chromium_100g', 'molybdenum_100g', 'iodine_100g', 'caffeine_100g', 'taurine_100g', 'ph_100g', 'fruits-vegetables-nuts_100g', 'fruits-vegetables-nuts-estimate_100g', 'collagen-meat-protein-ratio_100g', 'cocoa_100g', 'chlorophyl_100g', 'carbon-footprint_100g', 'nutrition-score-fr_100g', 'nutrition-score-uk_100g', 'glycemic-index_100g', 'water-hardness_100g']\n"
          ]
        }
      ]
    },
    {
      "cell_type": "code",
      "source": [
        "# Step 8. What is the name of 105th column?\n",
        "name_values = food.iloc[:, 104].values\n",
        "print(\"Name values in the 105th column:\", name_values)"
      ],
      "metadata": {
        "colab": {
          "base_uri": "https://localhost:8080/"
        },
        "id": "OqftTpC4ilAK",
        "outputId": "69077827-e23b-44cb-fda2-b5760fbb1d89"
      },
      "execution_count": null,
      "outputs": [
        {
          "output_type": "stream",
          "name": "stdout",
          "text": [
            "Name values in the 105th column: [nan nan nan ... nan nan nan]\n"
          ]
        }
      ]
    },
    {
      "cell_type": "code",
      "source": [
        "# Step 9. What is the type of the observations of the 105th column?\n",
        "column_type = food.iloc[:, 9].dtypes\n",
        "\n",
        "print(\"Data type of observations in the 10th column:\", column_type)"
      ],
      "metadata": {
        "colab": {
          "base_uri": "https://localhost:8080/"
        },
        "id": "coPYpzjdi4f3",
        "outputId": "92265845-2d90-4f80-88a7-745ea356d98f"
      },
      "execution_count": null,
      "outputs": [
        {
          "output_type": "stream",
          "name": "stdout",
          "text": [
            "Data type of observations in the 10th column: object\n"
          ]
        }
      ]
    },
    {
      "cell_type": "code",
      "source": [
        "# Step 10. How is the dataset indexed?\n",
        "food = food.set_index('code')"
      ],
      "metadata": {
        "id": "eEe0INlFjTTq"
      },
      "execution_count": null,
      "outputs": []
    },
    {
      "cell_type": "code",
      "source": [
        "# Step 11. What is the product name of the 19th observation?\n",
        "product_name = food.iloc[18, 1]\n",
        "print(\"Product name of the 19th observation:\", product_name)"
      ],
      "metadata": {
        "colab": {
          "base_uri": "https://localhost:8080/"
        },
        "id": "LY5Hvt5Djaif",
        "outputId": "1247d2b2-97e6-4342-dabd-91eefca18974"
      },
      "execution_count": null,
      "outputs": [
        {
          "output_type": "stream",
          "name": "stdout",
          "text": [
            "Product name of the 19th observation: usda-ndb-import\n"
          ]
        }
      ]
    },
    {
      "cell_type": "code",
      "source": [],
      "metadata": {
        "id": "X6vd1PSmj5tc"
      },
      "execution_count": null,
      "outputs": []
    }
  ]
}
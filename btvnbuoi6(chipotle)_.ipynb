{
  "nbformat": 4,
  "nbformat_minor": 0,
  "metadata": {
    "colab": {
      "provenance": [],
      "gpuType": "T4",
      "authorship_tag": "ABX9TyPTtN5NR/Vw+3hb6GqtxmMb",
      "include_colab_link": true
    },
    "kernelspec": {
      "name": "python3",
      "display_name": "Python 3"
    },
    "language_info": {
      "name": "python"
    },
    "accelerator": "GPU",
    "gpuClass": "standard"
  },
  "cells": [
    {
      "cell_type": "markdown",
      "metadata": {
        "id": "view-in-github",
        "colab_type": "text"
      },
      "source": [
        "<a href=\"https://colab.research.google.com/github/TANGTHEMANH/phan_tich_du_lieu/blob/master/btvnbuoi6(chipotle)_.ipynb\" target=\"_parent\"><img src=\"https://colab.research.google.com/assets/colab-badge.svg\" alt=\"Open In Colab\"/></a>"
      ]
    },
    {
      "cell_type": "code",
      "execution_count": 3,
      "metadata": {
        "id": "WCNCBM008rWl",
        "colab": {
          "base_uri": "https://localhost:8080/"
        },
        "outputId": "23b7f9b3-120d-47e6-f02e-bf53a98311e1"
      },
      "outputs": [
        {
          "output_type": "stream",
          "name": "stdout",
          "text": [
            "Mounted at /content/drive\n"
          ]
        }
      ],
      "source": [
        "from google.colab import drive\n",
        "drive.mount('/content/drive')"
      ]
    },
    {
      "cell_type": "code",
      "source": [
        "# Step 1. Import the necessary libraries\n",
        "import numpy as np\n",
        "import pandas as pd "
      ],
      "metadata": {
        "id": "UWejJGYNCxXN"
      },
      "execution_count": 4,
      "outputs": []
    },
    {
      "cell_type": "code",
      "source": [
        "# Step 2. Import the dataset from this address.\n",
        "# Step 3. Assign it to a variable called chipo.\n",
        "# chipo = open('/content/chipotle.tsv.txt').read()\n",
        "chipo = pd.read_csv('/content/chipotle.tsv.txt',delimiter='\\t')\n"
      ],
      "metadata": {
        "id": "3hz637px86mh"
      },
      "execution_count": 7,
      "outputs": []
    },
    {
      "cell_type": "code",
      "source": [
        "print(chipo)"
      ],
      "metadata": {
        "colab": {
          "base_uri": "https://localhost:8080/"
        },
        "id": "gF21GnhkFugI",
        "outputId": "3564defe-c950-4c3c-b4e5-cc467c132b2c"
      },
      "execution_count": null,
      "outputs": [
        {
          "output_type": "stream",
          "name": "stdout",
          "text": [
            "      order_id  quantity                              item_name  \\\n",
            "0            1         1           Chips and Fresh Tomato Salsa   \n",
            "1            1         1                                   Izze   \n",
            "2            1         1                       Nantucket Nectar   \n",
            "3            1         1  Chips and Tomatillo-Green Chili Salsa   \n",
            "4            2         2                           Chicken Bowl   \n",
            "...        ...       ...                                    ...   \n",
            "4617      1833         1                          Steak Burrito   \n",
            "4618      1833         1                          Steak Burrito   \n",
            "4619      1834         1                     Chicken Salad Bowl   \n",
            "4620      1834         1                     Chicken Salad Bowl   \n",
            "4621      1834         1                     Chicken Salad Bowl   \n",
            "\n",
            "                                     choice_description item_price  \n",
            "0                                                   NaN     $2.39   \n",
            "1                                          [Clementine]     $3.39   \n",
            "2                                               [Apple]     $3.39   \n",
            "3                                                   NaN     $2.39   \n",
            "4     [Tomatillo-Red Chili Salsa (Hot), [Black Beans...    $16.98   \n",
            "...                                                 ...        ...  \n",
            "4617  [Fresh Tomato Salsa, [Rice, Black Beans, Sour ...    $11.75   \n",
            "4618  [Fresh Tomato Salsa, [Rice, Sour Cream, Cheese...    $11.75   \n",
            "4619  [Fresh Tomato Salsa, [Fajita Vegetables, Pinto...    $11.25   \n",
            "4620  [Fresh Tomato Salsa, [Fajita Vegetables, Lettu...     $8.75   \n",
            "4621  [Fresh Tomato Salsa, [Fajita Vegetables, Pinto...     $8.75   \n",
            "\n",
            "[4622 rows x 5 columns]\n"
          ]
        }
      ]
    },
    {
      "cell_type": "code",
      "source": [
        "# Step 4. See the first 10 entries\n",
        "with open('/content/chipotle.tsv.txt') as chipo:\n",
        "    noi_dung_file = chipo.readlines()\n",
        "\n",
        "for x in noi_dung_file[1:10]:\n",
        "  print (x)"
      ],
      "metadata": {
        "colab": {
          "base_uri": "https://localhost:8080/"
        },
        "id": "xjRA-Z5rGJqv",
        "outputId": "736c500f-64d4-46e4-bacb-8e9e1bd96dba"
      },
      "execution_count": null,
      "outputs": [
        {
          "output_type": "stream",
          "name": "stdout",
          "text": [
            "1\t1\tChips and Fresh Tomato Salsa\tNULL\t$2.39 \n",
            "\n",
            "1\t1\tIzze\t[Clementine]\t$3.39 \n",
            "\n",
            "1\t1\tNantucket Nectar\t[Apple]\t$3.39 \n",
            "\n",
            "1\t1\tChips and Tomatillo-Green Chili Salsa\tNULL\t$2.39 \n",
            "\n",
            "2\t2\tChicken Bowl\t[Tomatillo-Red Chili Salsa (Hot), [Black Beans, Rice, Cheese, Sour Cream]]\t$16.98 \n",
            "\n",
            "3\t1\tChicken Bowl\t[Fresh Tomato Salsa (Mild), [Rice, Cheese, Sour Cream, Guacamole, Lettuce]]\t$10.98 \n",
            "\n",
            "3\t1\tSide of Chips\tNULL\t$1.69 \n",
            "\n",
            "4\t1\tSteak Burrito\t[Tomatillo Red Chili Salsa, [Fajita Vegetables, Black Beans, Pinto Beans, Cheese, Sour Cream, Guacamole, Lettuce]]\t$11.75 \n",
            "\n",
            "4\t1\tSteak Soft Tacos\t[Tomatillo Green Chili Salsa, [Pinto Beans, Cheese, Sour Cream, Lettuce]]\t$9.25 \n",
            "\n"
          ]
        }
      ]
    },
    {
      "cell_type": "code",
      "source": [
        "# Step 5. What is the number of observations in the dataset?\n",
        "\n",
        "with open('/content/chipotle.tsv.txt', 'r') as chipo:\n",
        "\n",
        "    lines = chipo.readlines()\n",
        "\n",
        "num_observations = len(lines)\n",
        "\n",
        "print(\"Number of observations:\", num_observations)"
      ],
      "metadata": {
        "colab": {
          "base_uri": "https://localhost:8080/"
        },
        "id": "vuCpZ-ihHDnQ",
        "outputId": "43748307-cd4b-45e3-f09b-b098fb243813"
      },
      "execution_count": null,
      "outputs": [
        {
          "output_type": "stream",
          "name": "stdout",
          "text": [
            "Number of observations: 4623\n"
          ]
        }
      ]
    },
    {
      "cell_type": "code",
      "source": [
        "# Step 6. What is the number of columns in the dataset?\n",
        "\n",
        "num_cols = chipo.shape[1]\n",
        "print(\"Number of columns:\", num_cols)"
      ],
      "metadata": {
        "colab": {
          "base_uri": "https://localhost:8080/"
        },
        "id": "ADvXvu4OS7g5",
        "outputId": "af936543-fc9a-4a4b-86bc-12213f2a9997"
      },
      "execution_count": 8,
      "outputs": [
        {
          "output_type": "stream",
          "name": "stdout",
          "text": [
            "Number of columns: 5\n"
          ]
        }
      ]
    },
    {
      "cell_type": "code",
      "source": [
        "# Step 7. Print the name of all the columns.\n",
        "with open('/content/chipotle.tsv.txt', 'r') as chipo:\n",
        "    first_line = chipo.readline()\n",
        "    columns = first_line.strip().split('\\t')\n",
        "num_columns = len(columns)\n",
        "print(\"Number of columns:\", num_columns)\n",
        "print('Columns names: ')\n",
        "for column in columns:\n",
        "  print(column)"
      ],
      "metadata": {
        "colab": {
          "base_uri": "https://localhost:8080/"
        },
        "id": "2O5XpLHVQCBO",
        "outputId": "d1e30efa-3c5d-4ba2-e8d1-37714b456d0d"
      },
      "execution_count": null,
      "outputs": [
        {
          "output_type": "stream",
          "name": "stdout",
          "text": [
            "Number of columns: 5\n",
            "Columns names: \n",
            "order_id\n",
            "quantity\n",
            "item_name\n",
            "choice_description\n",
            "item_price\n"
          ]
        }
      ]
    },
    {
      "cell_type": "code",
      "source": [
        "# Step 8. How is the dataset indexed?\n",
        "chipo = chipo.set_index('user')"
      ],
      "metadata": {
        "id": "KCJtdX0TZX5j"
      },
      "execution_count": null,
      "outputs": []
    },
    {
      "cell_type": "code",
      "source": [
        "\n",
        "# Step 9. Which was the most-ordered item?\n",
        "\n",
        "df = pd.read_csv('/content/chipotle.tsv.txt', sep='\\t')\n",
        "# group the data by item_name and sum the quantity for each item\n",
        "item_counts = df.groupby('item_name')['quantity'].sum()\n",
        "# item_counts\n",
        "# sort the items by the total quantity in descending order\n",
        "sorted_items = item_counts.sort_values(ascending=False)\n",
        "\n",
        "sorted_items\n",
        "# print the most-ordered item\n",
        "most_ordered_item = sorted_items.index[0]\n",
        "count = sorted_items.iloc[0]\n",
        "print(\"The most-ordered item is:\", most_ordered_item, \"with\", count, \"items ordered\")"
      ],
      "metadata": {
        "colab": {
          "base_uri": "https://localhost:8080/"
        },
        "id": "BYuUYXN3TT1N",
        "outputId": "a957b268-686a-40cb-fe82-283cbf26676a"
      },
      "execution_count": null,
      "outputs": [
        {
          "output_type": "stream",
          "name": "stdout",
          "text": [
            "The most-ordered item is: Chicken Bowl with 761 items ordered\n"
          ]
        }
      ]
    },
    {
      "cell_type": "code",
      "source": [
        "# Step 10. For the most-ordered item, how many items were ordered?\n",
        "\n",
        "df = pd.read_csv('/content/chipotle.tsv.txt', sep='\\t')\n",
        "# group the data by item_name and sum the quantity for each item\n",
        "item_counts = df.groupby('item_name')['quantity'].sum()\n",
        "# item_counts\n",
        "# sort the items by the total quantity in descending order\n",
        "sorted_items = item_counts.sort_values(ascending=False)\n",
        "\n",
        "sorted_items\n",
        "# print the most-ordered item\n",
        "most_ordered_item = sorted_items.index[0]\n",
        "count = sorted_items.iloc[0]\n",
        "print(\"The most-ordered item is:\", most_ordered_item, \"with\", count, \"items ordered\")"
      ],
      "metadata": {
        "colab": {
          "base_uri": "https://localhost:8080/"
        },
        "id": "yXR8y5OW4fnI",
        "outputId": "ef91cdd2-c4c1-40ee-e55c-4f4d2841ea7a"
      },
      "execution_count": null,
      "outputs": [
        {
          "output_type": "stream",
          "name": "stdout",
          "text": [
            "The most-ordered item is: Chicken Bowl with 761 items ordered\n"
          ]
        }
      ]
    },
    {
      "cell_type": "code",
      "source": [
        "# Step 12. How many items were orderd in total?\n",
        "# solution 1\n",
        "item_counts = df.groupby('item_name')['quantity'].sum()\n",
        "total_items_ordered = sum(1 for line in item_counts)\n",
        "# solution 2\n",
        "# total_items_ordered = item_counts.shape[0]\n",
        "print(\"Total number of items ordered:\", total_items_ordered)"
      ],
      "metadata": {
        "colab": {
          "base_uri": "https://localhost:8080/"
        },
        "id": "Xy1uWKREUb48",
        "outputId": "886c2b7e-dca6-4a96-efcd-612c53fce421"
      },
      "execution_count": null,
      "outputs": [
        {
          "output_type": "stream",
          "name": "stdout",
          "text": [
            "Total number of items ordered: 50\n"
          ]
        }
      ]
    },
    {
      "cell_type": "code",
      "source": [
        "import pandas as pd\n",
        "\n",
        "# read in the text file as a dataframe, skipping the first row\n",
        "my_df = pd.read_csv('/content/chipotle.tsv.txt', sep='\\t', names=['column1', 'column2', 'column3', 'column4', 'column5'], skiprows=1)\n",
        "\n",
        "# convert the columns to float\n",
        "my_df['column1'] = my_df['column1'].astype(float)\n",
        "my_df['column2'] = my_df['column2'].astype(float)\n",
        "my_df['column5'] = my_df['column5'].str.replace('$','').astype(float)\n",
        "\n",
        "print(my_df)\n",
        "\n",
        "\n"
      ],
      "metadata": {
        "id": "cL3fY-sh5QV_"
      },
      "execution_count": null,
      "outputs": []
    },
    {
      "cell_type": "code",
      "source": [
        "# Step 13. Turn the item price into a float\n",
        "chipo = pd.read_csv('/content/chipotle.tsv.txt', sep='\\t')\n",
        "# .a. Check the item price type\n",
        "print(chipo['item_price'].dtype)\n",
        "# b. Create a lambda function and change the type of item price\n",
        "chipo['item_price'] = chipo['item_price'].str.replace('$','').astype(float)\n",
        "# Check the item price type\n",
        "print(chipo)\n",
        "\n",
        "print(chipo['item_price'].dtype)\n"
      ],
      "metadata": {
        "colab": {
          "base_uri": "https://localhost:8080/"
        },
        "id": "uio26C4e-hs3",
        "outputId": "fdef643e-72fb-40ea-9aea-2ed70db43d2a"
      },
      "execution_count": 61,
      "outputs": [
        {
          "output_type": "stream",
          "name": "stdout",
          "text": [
            "object\n",
            "      order_id  quantity                              item_name  \\\n",
            "0            1         1           Chips and Fresh Tomato Salsa   \n",
            "1            1         1                                   Izze   \n",
            "2            1         1                       Nantucket Nectar   \n",
            "3            1         1  Chips and Tomatillo-Green Chili Salsa   \n",
            "4            2         2                           Chicken Bowl   \n",
            "...        ...       ...                                    ...   \n",
            "4617      1833         1                          Steak Burrito   \n",
            "4618      1833         1                          Steak Burrito   \n",
            "4619      1834         1                     Chicken Salad Bowl   \n",
            "4620      1834         1                     Chicken Salad Bowl   \n",
            "4621      1834         1                     Chicken Salad Bowl   \n",
            "\n",
            "                                     choice_description  item_price  \n",
            "0                                                   NaN        2.39  \n",
            "1                                          [Clementine]        3.39  \n",
            "2                                               [Apple]        3.39  \n",
            "3                                                   NaN        2.39  \n",
            "4     [Tomatillo-Red Chili Salsa (Hot), [Black Beans...       16.98  \n",
            "...                                                 ...         ...  \n",
            "4617  [Fresh Tomato Salsa, [Rice, Black Beans, Sour ...       11.75  \n",
            "4618  [Fresh Tomato Salsa, [Rice, Sour Cream, Cheese...       11.75  \n",
            "4619  [Fresh Tomato Salsa, [Fajita Vegetables, Pinto...       11.25  \n",
            "4620  [Fresh Tomato Salsa, [Fajita Vegetables, Lettu...        8.75  \n",
            "4621  [Fresh Tomato Salsa, [Fajita Vegetables, Pinto...        8.75  \n",
            "\n",
            "[4622 rows x 5 columns]\n",
            "float64\n"
          ]
        },
        {
          "output_type": "stream",
          "name": "stderr",
          "text": [
            "<ipython-input-61-fe545e6c6d67>:6: FutureWarning: The default value of regex will change from True to False in a future version. In addition, single character regular expressions will *not* be treated as literal strings when regex=True.\n",
            "  chipo['item_price'] = chipo['item_price'].str.replace('$','').astype(float)\n"
          ]
        }
      ]
    },
    {
      "cell_type": "code",
      "source": [
        "# Step 14. How much was the revenue for the period in the dataset?\n",
        "chipo['revenue'] = chipo['item_price']* chipo['quantity']\n",
        "total_revenue = chipo['revenue'].sum()\n",
        "print(\"total revenue:\", total_revenue)"
      ],
      "metadata": {
        "colab": {
          "base_uri": "https://localhost:8080/"
        },
        "id": "J18jQuqDCT_b",
        "outputId": "800d2562-8625-4d56-dabe-d7c7837ecc1d"
      },
      "execution_count": 65,
      "outputs": [
        {
          "output_type": "stream",
          "name": "stdout",
          "text": [
            "total revenue: 39237.02\n"
          ]
        }
      ]
    },
    {
      "cell_type": "code",
      "source": [
        "# Step 15. How many orders were made in the period?\n",
        "order_counts = chipo.shape[0]\n",
        "print(order_counts)"
      ],
      "metadata": {
        "colab": {
          "base_uri": "https://localhost:8080/"
        },
        "id": "PGZs8740Gh4X",
        "outputId": "c07dad1b-9849-424f-9aff-f3b81d5fba96"
      },
      "execution_count": 69,
      "outputs": [
        {
          "output_type": "stream",
          "name": "stdout",
          "text": [
            "4622\n"
          ]
        }
      ]
    },
    {
      "cell_type": "code",
      "source": [
        "# Step 16. What is the average revenue amount per order?\n",
        "# Step 17. How many different items are sold?\n",
        "\n",
        "\n",
        "# drop duplicate rows based on the item_name column\n",
        "chipo_unique = df.drop_duplicates(subset='item_name')\n",
        "# print(chipo_unique)\n",
        "# count the number of remaining rows\n",
        "num_items_sold = len(chipo_unique)\n",
        "# print(num_items_sold)\n",
        "# print the number of different items sold to the console\n",
        "print(\"Number of different items sold:\", num_items_sold)"
      ],
      "metadata": {
        "colab": {
          "base_uri": "https://localhost:8080/"
        },
        "id": "9YTLKfB3I_4J",
        "outputId": "b6ffd639-f104-4b5b-b486-32f2c96b6c46"
      },
      "execution_count": 76,
      "outputs": [
        {
          "output_type": "stream",
          "name": "stdout",
          "text": [
            "Number of different items sold: 50\n"
          ]
        }
      ]
    },
    {
      "cell_type": "code",
      "source": [],
      "metadata": {
        "id": "yNaOvBYNNwsZ"
      },
      "execution_count": null,
      "outputs": []
    }
  ]
}
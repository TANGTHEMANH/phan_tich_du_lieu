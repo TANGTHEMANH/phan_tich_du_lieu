{
  "nbformat": 4,
  "nbformat_minor": 0,
  "metadata": {
    "colab": {
      "provenance": [],
      "gpuType": "T4",
      "authorship_tag": "ABX9TyN71DUPPTNskNPj24+NKtdl",
      "include_colab_link": true
    },
    "kernelspec": {
      "name": "python3",
      "display_name": "Python 3"
    },
    "language_info": {
      "name": "python"
    },
    "accelerator": "GPU",
    "gpuClass": "standard"
  },
  "cells": [
    {
      "cell_type": "markdown",
      "metadata": {
        "id": "view-in-github",
        "colab_type": "text"
      },
      "source": [
        "<a href=\"https://colab.research.google.com/github/TANGTHEMANH/phan_tich_du_lieu/blob/master/btvnbuoi6(occupation).ipynb\" target=\"_parent\"><img src=\"https://colab.research.google.com/assets/colab-badge.svg\" alt=\"Open In Colab\"/></a>"
      ]
    },
    {
      "cell_type": "code",
      "execution_count": 3,
      "metadata": {
        "colab": {
          "base_uri": "https://localhost:8080/"
        },
        "id": "kMj0S6oYO5SS",
        "outputId": "facd1f68-5ce6-40cf-f09b-5c2f955222c0"
      },
      "outputs": [
        {
          "output_type": "stream",
          "name": "stdout",
          "text": [
            "Mounted at /content/drive\n"
          ]
        }
      ],
      "source": [
        "from google.colab import drive\n",
        "drive.mount('/content/drive')"
      ]
    },
    {
      "cell_type": "code",
      "source": [
        "# Step 1. Import the necessary libraries\n",
        "import numpy as np \n",
        "import pandas as pd "
      ],
      "metadata": {
        "id": "ZjF8NBQsQBt7"
      },
      "execution_count": 6,
      "outputs": []
    },
    {
      "cell_type": "code",
      "source": [
        "# Step 2. Import the dataset from this address.\n",
        "# users = pd.read_csv('/content/u.user',delimiter='\\t')\n",
        "users =  pd.read_csv('/content/u.user', sep='[|,|]', engine='python')"
      ],
      "metadata": {
        "id": "dDFwjXCVQrvt"
      },
      "execution_count": 57,
      "outputs": []
    },
    {
      "cell_type": "code",
      "source": [
        "# Step 3. Assign it to a variable called users and use the 'user_id' as index\n",
        "print(users)"
      ],
      "metadata": {
        "colab": {
          "base_uri": "https://localhost:8080/"
        },
        "id": "6uCHhRW_Q9Yo",
        "outputId": "330dfe44-ebca-4089-f278-18bf1707c8e3"
      },
      "execution_count": 58,
      "outputs": [
        {
          "output_type": "stream",
          "name": "stdout",
          "text": [
            "     user_id  age gender     occupation zip_code\n",
            "0          1   24      M     technician    85711\n",
            "1          2   53      F          other    94043\n",
            "2          3   23      M         writer    32067\n",
            "3          4   24      M     technician    43537\n",
            "4          5   33      F          other    15213\n",
            "..       ...  ...    ...            ...      ...\n",
            "938      939   26      F        student    33319\n",
            "939      940   32      M  administrator    02215\n",
            "940      941   20      M        student    97229\n",
            "941      942   48      F      librarian    78209\n",
            "942      943   22      M        student    77841\n",
            "\n",
            "[943 rows x 5 columns]\n"
          ]
        }
      ]
    },
    {
      "cell_type": "code",
      "source": [
        "# Step 4. See the first 25 entries\n",
        "# solution 1\n",
        "# with open('/content/u.user') as users:\n",
        "#     noi_dung_file = users.readlines()\n",
        "\n",
        "# for x in noi_dung_file[1:25]:\n",
        "#   print (x)\n",
        "#solution 2\n",
        "print(users)\n",
        "print(users.head(10))"
      ],
      "metadata": {
        "colab": {
          "base_uri": "https://localhost:8080/"
        },
        "id": "y0uC-5EZRI26",
        "outputId": "8e578f30-2143-4b15-cc86-6e7e275525f8"
      },
      "execution_count": 25,
      "outputs": [
        {
          "output_type": "stream",
          "name": "stdout",
          "text": [
            "     user  id age         gender occupation  zip  code\n",
            "0       1  24   M     technician      85711  NaN   NaN\n",
            "1       2  53   F          other      94043  NaN   NaN\n",
            "2       3  23   M         writer      32067  NaN   NaN\n",
            "3       4  24   M     technician      43537  NaN   NaN\n",
            "4       5  33   F          other      15213  NaN   NaN\n",
            "..    ...  ..  ..            ...        ...  ...   ...\n",
            "938   939  26   F        student      33319  NaN   NaN\n",
            "939   940  32   M  administrator      02215  NaN   NaN\n",
            "940   941  20   M        student      97229  NaN   NaN\n",
            "941   942  48   F      librarian      78209  NaN   NaN\n",
            "942   943  22   M        student      77841  NaN   NaN\n",
            "\n",
            "[943 rows x 7 columns]\n",
            "   user  id age         gender occupation  zip  code\n",
            "0     1  24   M     technician      85711  NaN   NaN\n",
            "1     2  53   F          other      94043  NaN   NaN\n",
            "2     3  23   M         writer      32067  NaN   NaN\n",
            "3     4  24   M     technician      43537  NaN   NaN\n",
            "4     5  33   F          other      15213  NaN   NaN\n",
            "5     6  42   M      executive      98101  NaN   NaN\n",
            "6     7  57   M  administrator      91344  NaN   NaN\n",
            "7     8  36   M  administrator      05201  NaN   NaN\n",
            "8     9  29   M        student      01002  NaN   NaN\n",
            "9    10  53   M         lawyer      90703  NaN   NaN\n"
          ]
        }
      ]
    },
    {
      "cell_type": "code",
      "source": [
        "# Step 5. See the last 10 entries\n",
        "print(users)\n",
        "print(users.tail(10))"
      ],
      "metadata": {
        "colab": {
          "base_uri": "https://localhost:8080/"
        },
        "id": "L7Au1GrqR6Xw",
        "outputId": "0a7c122a-f13a-4b7d-e57c-cd898ba37b25"
      },
      "execution_count": 16,
      "outputs": [
        {
          "output_type": "stream",
          "name": "stdout",
          "text": [
            "    user_id|age|gender|occupation|zip_code\n",
            "0                  1|24|M|technician|85711\n",
            "1                       2|53|F|other|94043\n",
            "2                      3|23|M|writer|32067\n",
            "3                  4|24|M|technician|43537\n",
            "4                       5|33|F|other|15213\n",
            "..                                     ...\n",
            "938                 939|26|F|student|33319\n",
            "939           940|32|M|administrator|02215\n",
            "940                 941|20|M|student|97229\n",
            "941               942|48|F|librarian|78209\n",
            "942                 943|22|M|student|77841\n",
            "\n",
            "[943 rows x 1 columns]\n",
            "    user_id|age|gender|occupation|zip_code\n",
            "933                934|61|M|engineer|22902\n",
            "934                  935|42|M|doctor|66221\n",
            "935                   936|24|M|other|32789\n",
            "936                937|48|M|educator|98072\n",
            "937              938|38|F|technician|55038\n",
            "938                 939|26|F|student|33319\n",
            "939           940|32|M|administrator|02215\n",
            "940                 941|20|M|student|97229\n",
            "941               942|48|F|librarian|78209\n",
            "942                 943|22|M|student|77841\n"
          ]
        }
      ]
    },
    {
      "cell_type": "code",
      "source": [
        "# Step 6. What is the number of observations in the dataset?\n",
        "\n",
        "with open('/content/u.user', 'r') as users:\n",
        "\n",
        "    lines = users.readlines()\n",
        "\n",
        "num_observations = len(lines)\n",
        "\n",
        "print(\"Number of observations:\", num_observations)"
      ],
      "metadata": {
        "colab": {
          "base_uri": "https://localhost:8080/"
        },
        "id": "1MG8R-fdRaQk",
        "outputId": "05ca320b-9602-49ce-e434-65e16141a832"
      },
      "execution_count": 11,
      "outputs": [
        {
          "output_type": "stream",
          "name": "stdout",
          "text": [
            "Number of observations: 944\n"
          ]
        }
      ]
    },
    {
      "cell_type": "code",
      "source": [
        "# Step 7. What is the number of columns in the dataset?\n",
        "\n",
        "num_cols = users.shape[1]\n",
        "print(\"Number of columns:\", num_cols)"
      ],
      "metadata": {
        "colab": {
          "base_uri": "https://localhost:8080/"
        },
        "id": "BI9Ov9X8RtY4",
        "outputId": "6bda66ce-af80-4913-c2c7-49ed72a901a2"
      },
      "execution_count": 9,
      "outputs": [
        {
          "output_type": "stream",
          "name": "stdout",
          "text": [
            "Number of columns: 1\n"
          ]
        }
      ]
    },
    {
      "cell_type": "code",
      "source": [
        "# Step 8. Print the name of all the columns\n",
        "# get the column names from the dataframe\n",
        "column_names = users.columns.tolist()\n",
        "\n",
        "# print the column names to the console\n",
        "print(\"Column names:\", column_names)"
      ],
      "metadata": {
        "colab": {
          "base_uri": "https://localhost:8080/"
        },
        "id": "Rera54c9TsIc",
        "outputId": "248a27c8-8f1e-4e7b-c33f-044099f911a8"
      },
      "execution_count": 26,
      "outputs": [
        {
          "output_type": "stream",
          "name": "stdout",
          "text": [
            "Column names: ['user', 'id', 'age', 'gender', 'occupation', 'zip', 'code']\n"
          ]
        }
      ]
    },
    {
      "cell_type": "code",
      "source": [
        "# Step 9. How is the dataset indexed?\n",
        "users = users.set_index('user')"
      ],
      "metadata": {
        "id": "GMm1nakOY5IR"
      },
      "execution_count": 29,
      "outputs": []
    },
    {
      "cell_type": "code",
      "source": [
        "# Step 10. What is the data type of each column?\n",
        "\n",
        "print(users.dtypes)"
      ],
      "metadata": {
        "colab": {
          "base_uri": "https://localhost:8080/"
        },
        "id": "CBUHr-fXZBXb",
        "outputId": "973d1518-8ac8-4b23-edb5-d27b25c65b69"
      },
      "execution_count": 30,
      "outputs": [
        {
          "output_type": "stream",
          "name": "stdout",
          "text": [
            "id              int64\n",
            "age            object\n",
            "gender         object\n",
            "occupation     object\n",
            "zip           float64\n",
            "code          float64\n",
            "dtype: object\n"
          ]
        }
      ]
    },
    {
      "cell_type": "code",
      "source": [
        "#Step 11. Print only the occupation column\n",
        "print(users[['occupation']])"
      ],
      "metadata": {
        "colab": {
          "base_uri": "https://localhost:8080/"
        },
        "id": "F4eBjOsdZuOL",
        "outputId": "5d7dccd7-d008-4d59-95c5-c47e3ad7711e"
      },
      "execution_count": 31,
      "outputs": [
        {
          "output_type": "stream",
          "name": "stdout",
          "text": [
            "     occupation\n",
            "user           \n",
            "1         85711\n",
            "2         94043\n",
            "3         32067\n",
            "4         43537\n",
            "5         15213\n",
            "...         ...\n",
            "939       33319\n",
            "940       02215\n",
            "941       97229\n",
            "942       78209\n",
            "943       77841\n",
            "\n",
            "[943 rows x 1 columns]\n"
          ]
        }
      ]
    },
    {
      "cell_type": "code",
      "source": [
        "# Step 12. How many different occupations are in this dataset?\n",
        "\n",
        "num_items = users['occupation'].nunique()\n",
        "\n",
        "print(\"Number of different item_name:\", num_items)"
      ],
      "metadata": {
        "colab": {
          "base_uri": "https://localhost:8080/"
        },
        "id": "RZY8V1kVZ9fT",
        "outputId": "8298a1f2-6300-4697-cf81-ec42a7d90dce"
      },
      "execution_count": 34,
      "outputs": [
        {
          "output_type": "stream",
          "name": "stdout",
          "text": [
            "Number of different item_name: 795\n"
          ]
        }
      ]
    },
    {
      "cell_type": "code",
      "source": [
        "# Step 13. What is the most frequent occupation?\n",
        "occupation_counts = users['occupation'].value_counts()\n",
        "\n",
        "most_common_occupation = occupation_counts.index[0]\n",
        "\n",
        "print(\"Most common occupation:\", most_common_occupation)\n",
        "\n"
      ],
      "metadata": {
        "colab": {
          "base_uri": "https://localhost:8080/"
        },
        "id": "ZdbcVLixae5l",
        "outputId": "d11fe4a4-9be6-4536-e427-96c2f7bffcfe"
      },
      "execution_count": 36,
      "outputs": [
        {
          "output_type": "stream",
          "name": "stdout",
          "text": [
            "Most common occupation: 55414\n"
          ]
        }
      ]
    },
    {
      "cell_type": "code",
      "source": [
        "#Step 14. Summarize the DataFrame.\n",
        "summary = users.describe()\n",
        "print(summary)\n",
        "# summary = users.describe(include='all')"
      ],
      "metadata": {
        "colab": {
          "base_uri": "https://localhost:8080/"
        },
        "id": "lP73y6ghbVjd",
        "outputId": "78290286-4ca7-4d1b-de80-0ef4d32ae26c"
      },
      "execution_count": 41,
      "outputs": [
        {
          "output_type": "stream",
          "name": "stdout",
          "text": [
            "               id  zip  code\n",
            "count  943.000000  0.0   0.0\n",
            "mean    34.051962  NaN   NaN\n",
            "std     12.192740  NaN   NaN\n",
            "min      7.000000  NaN   NaN\n",
            "25%     25.000000  NaN   NaN\n",
            "50%     31.000000  NaN   NaN\n",
            "75%     43.000000  NaN   NaN\n",
            "max     73.000000  NaN   NaN\n"
          ]
        }
      ]
    },
    {
      "cell_type": "code",
      "source": [
        "# Step 15. Summarize all the columns\n",
        "summary = users.describe(include='all')\n",
        "print(summary)"
      ],
      "metadata": {
        "colab": {
          "base_uri": "https://localhost:8080/"
        },
        "id": "bjV8a0YObt-m",
        "outputId": "f40898fe-a0d4-4665-c2a5-907b42bbb43f"
      },
      "execution_count": 42,
      "outputs": [
        {
          "output_type": "stream",
          "name": "stdout",
          "text": [
            "                id  age   gender occupation  zip  code\n",
            "count   943.000000  943      943        943  0.0   0.0\n",
            "unique         NaN    2       21        795  NaN   NaN\n",
            "top            NaN    M  student      55414  NaN   NaN\n",
            "freq           NaN  670      196          9  NaN   NaN\n",
            "mean     34.051962  NaN      NaN        NaN  NaN   NaN\n",
            "std      12.192740  NaN      NaN        NaN  NaN   NaN\n",
            "min       7.000000  NaN      NaN        NaN  NaN   NaN\n",
            "25%      25.000000  NaN      NaN        NaN  NaN   NaN\n",
            "50%      31.000000  NaN      NaN        NaN  NaN   NaN\n",
            "75%      43.000000  NaN      NaN        NaN  NaN   NaN\n",
            "max      73.000000  NaN      NaN        NaN  NaN   NaN\n"
          ]
        }
      ]
    },
    {
      "cell_type": "code",
      "source": [
        "# Step 16. Summarize only the occupation column\n",
        "summary = users['occupation'].describe()\n",
        "print(summary)"
      ],
      "metadata": {
        "colab": {
          "base_uri": "https://localhost:8080/"
        },
        "id": "CRX0E1secBkA",
        "outputId": "16d22645-b69f-43d1-b4bf-060bdb4eef0a"
      },
      "execution_count": 44,
      "outputs": [
        {
          "output_type": "stream",
          "name": "stdout",
          "text": [
            "count       943\n",
            "unique      795\n",
            "top       55414\n",
            "freq          9\n",
            "Name: occupation, dtype: object\n"
          ]
        }
      ]
    },
    {
      "cell_type": "code",
      "source": [
        "# Step 17. What is the mean age of users?\n",
        "users =  pd.read_csv('/content/u.user', sep='[|,|]', engine='python')\n",
        "users['age'] = users['age'].astype(float)\n",
        "\n",
        "mean_age = users['age'].mean()\n",
        "\n",
        "print(\"Mean age of users:\", mean_age)"
      ],
      "metadata": {
        "colab": {
          "base_uri": "https://localhost:8080/"
        },
        "id": "ER-Z_P3ncP7R",
        "outputId": "79c0d93a-a6ff-47aa-c549-22f80a24c3c6"
      },
      "execution_count": 60,
      "outputs": [
        {
          "output_type": "stream",
          "name": "stdout",
          "text": [
            "Mean age of users: 34.05196182396607\n"
          ]
        }
      ]
    },
    {
      "cell_type": "code",
      "source": [
        "# Step 18. What is the age with least occurrence?\n",
        "\n",
        "users['age'] = users['age'].astype(float)\n",
        "\n",
        "age_counts = users['age'].value_counts()\n",
        "\n",
        "least_common_age = age_counts.index[-1]\n",
        "\n",
        "print(\"Age with least occurrence:\", least_common_age)"
      ],
      "metadata": {
        "colab": {
          "base_uri": "https://localhost:8080/"
        },
        "id": "qDw3IJ36dE07",
        "outputId": "4493f175-6c5c-4c67-c989-c92a182b3ba9"
      },
      "execution_count": 61,
      "outputs": [
        {
          "output_type": "stream",
          "name": "stdout",
          "text": [
            "Age with least occurrence: 73.0\n"
          ]
        }
      ]
    },
    {
      "cell_type": "code",
      "source": [],
      "metadata": {
        "id": "IxGFV3iWeshP"
      },
      "execution_count": null,
      "outputs": []
    }
  ]
}